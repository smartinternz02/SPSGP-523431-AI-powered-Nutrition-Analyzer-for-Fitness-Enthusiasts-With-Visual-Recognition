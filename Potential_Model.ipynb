{
  "nbformat": 4,
  "nbformat_minor": 0,
  "metadata": {
    "colab": {
      "provenance": [],
      "gpuType": "T4"
    },
    "kernelspec": {
      "name": "python3",
      "display_name": "Python 3"
    },
    "language_info": {
      "name": "python"
    },
    "accelerator": "GPU"
  },
  "cells": [
    {
      "cell_type": "code",
      "source": [
        "from google.colab import drive\n",
        "drive.mount('/content/drive')"
      ],
      "metadata": {
        "colab": {
          "base_uri": "https://localhost:8080/"
        },
        "id": "Fjcm8d5-fWbk",
        "outputId": "38086703-d38c-44ea-873a-2e3c57b0b2af"
      },
      "execution_count": null,
      "outputs": [
        {
          "output_type": "stream",
          "name": "stdout",
          "text": [
            "Drive already mounted at /content/drive; to attempt to forcibly remount, call drive.mount(\"/content/drive\", force_remount=True).\n"
          ]
        }
      ]
    },
    {
      "cell_type": "code",
      "execution_count": null,
      "metadata": {
        "id": "g0Q4wj4eXp7J"
      },
      "outputs": [],
      "source": [
        "from tensorflow.keras.preprocessing.image import ImageDataGenerator\n",
        "from tensorflow.keras.layers import Convolution2D, MaxPooling2D, Flatten, Dense\n",
        "from tensorflow.keras.models import Sequential\n",
        "from tensorflow.keras.layers import BatchNormalization, Dropout\n",
        "import numpy as np\n",
        "from tensorflow.keras.preprocessing import image"
      ]
    },
    {
      "cell_type": "code",
      "source": [
        "train_gen = ImageDataGenerator(rescale=(1./255), horizontal_flip=True, shear_range=0.2)\n",
        "test_gen = ImageDataGenerator(rescale=(1./255))"
      ],
      "metadata": {
        "id": "NXsPBjPNZ94q"
      },
      "execution_count": null,
      "outputs": []
    },
    {
      "cell_type": "code",
      "source": [
        "train = train_gen.flow_from_directory('/content/drive/MyDrive/Dataset/TRAIN_SET', target_size=(200,200), class_mode='categorical', batch_size=75)\n",
        "test = test_gen.flow_from_directory('/content/drive/MyDrive/Dataset/TEST_SET', target_size=(200,200), class_mode='categorical', batch_size=75)"
      ],
      "metadata": {
        "colab": {
          "base_uri": "https://localhost:8080/"
        },
        "id": "A8pvzmUPaU3V",
        "outputId": "42b28959-fa14-4e46-ee72-8b147f6daa68"
      },
      "execution_count": null,
      "outputs": [
        {
          "output_type": "stream",
          "name": "stdout",
          "text": [
            "Found 2626 images belonging to 5 classes.\n",
            "Found 1055 images belonging to 5 classes.\n"
          ]
        }
      ]
    },
    {
      "cell_type": "code",
      "source": [
        "model = Sequential()\n",
        "model.add(Convolution2D(40, (3,3), activation='relu', input_shape=(200,200,3)))\n",
        "model.add(MaxPooling2D(pool_size=(2,2)))\n",
        "model.add(Dropout(0.5))\n",
        "model.add(Convolution2D(60, (3,3), activation='relu', input_shape=(200,200,3)))\n",
        "model.add(MaxPooling2D(pool_size=(2,2)))\n",
        "model.add(Dropout(0.5))\n",
        "model.add(Flatten())\n",
        "model.add(Dense(64, activation='relu'))\n",
        "model.add(BatchNormalization())\n",
        "model.add(Dropout(0.5))\n",
        "model.add(Dense(75, activation='relu'))\n",
        "model.add(Dense(50, activation='relu'))\n",
        "model.add(Dense(25, activation='relu'))\n",
        "model.add(Dense(5, activation='softmax'))"
      ],
      "metadata": {
        "id": "PMFxvJ_mfhfA"
      },
      "execution_count": null,
      "outputs": []
    },
    {
      "cell_type": "code",
      "source": [
        "model.compile(optimizer='adam', loss='categorical_crossentropy', metrics=['accuracy'])"
      ],
      "metadata": {
        "id": "N8M5cCFkhF3z"
      },
      "execution_count": null,
      "outputs": []
    },
    {
      "cell_type": "code",
      "source": [
        "model.fit(train, batch_size=75, validation_data=test, epochs=15)"
      ],
      "metadata": {
        "id": "yEkn-E4sheT1",
        "colab": {
          "base_uri": "https://localhost:8080/"
        },
        "outputId": "f3db6ff1-2e8e-4ff5-a7b6-dda6f7961e82"
      },
      "execution_count": null,
      "outputs": [
        {
          "output_type": "stream",
          "name": "stdout",
          "text": [
            "Epoch 1/15\n",
            "36/36 [==============================] - 36s 880ms/step - loss: 0.8259 - accuracy: 0.7285 - val_loss: 0.6591 - val_accuracy: 0.7602\n",
            "Epoch 2/15\n",
            "36/36 [==============================] - 32s 897ms/step - loss: 0.1361 - accuracy: 0.9787 - val_loss: 0.9343 - val_accuracy: 0.6303\n",
            "Epoch 3/15\n",
            "36/36 [==============================] - 32s 882ms/step - loss: 0.0428 - accuracy: 0.9893 - val_loss: 1.6250 - val_accuracy: 0.5991\n",
            "Epoch 4/15\n",
            "36/36 [==============================] - 32s 882ms/step - loss: 0.0208 - accuracy: 0.9947 - val_loss: 5.5160 - val_accuracy: 0.1488\n",
            "Epoch 5/15\n",
            "36/36 [==============================] - 32s 902ms/step - loss: 0.0134 - accuracy: 0.9970 - val_loss: 2.5574 - val_accuracy: 0.5678\n",
            "Epoch 6/15\n",
            "36/36 [==============================] - 32s 902ms/step - loss: 0.0113 - accuracy: 0.9970 - val_loss: 1.8917 - val_accuracy: 0.5412\n",
            "Epoch 7/15\n",
            "36/36 [==============================] - 32s 882ms/step - loss: 0.0110 - accuracy: 0.9966 - val_loss: 1.1287 - val_accuracy: 0.6919\n",
            "Epoch 8/15\n",
            "36/36 [==============================] - 32s 890ms/step - loss: 0.0070 - accuracy: 0.9981 - val_loss: 3.8058 - val_accuracy: 0.4275\n",
            "Epoch 9/15\n",
            "36/36 [==============================] - 34s 954ms/step - loss: 0.0064 - accuracy: 0.9981 - val_loss: 2.1776 - val_accuracy: 0.5640\n",
            "Epoch 10/15\n",
            "36/36 [==============================] - 32s 883ms/step - loss: 0.0072 - accuracy: 0.9973 - val_loss: 1.8752 - val_accuracy: 0.6294\n",
            "Epoch 11/15\n",
            "36/36 [==============================] - 32s 877ms/step - loss: 0.0062 - accuracy: 0.9981 - val_loss: 1.5378 - val_accuracy: 0.6597\n",
            "Epoch 12/15\n",
            "36/36 [==============================] - 33s 901ms/step - loss: 0.0051 - accuracy: 0.9989 - val_loss: 2.4460 - val_accuracy: 0.4332\n",
            "Epoch 13/15\n",
            "26/36 [====================>.........] - ETA: 8s - loss: 0.0081 - accuracy: 0.9973"
          ]
        }
      ]
    },
    {
      "cell_type": "code",
      "source": [
        "img = image.load_img('/content/apple.jpg', target_size=(200,200))"
      ],
      "metadata": {
        "id": "MQBvoEIXhgoT"
      },
      "execution_count": null,
      "outputs": []
    },
    {
      "cell_type": "code",
      "source": [
        "img = image.img_to_array(img)\n",
        "img = np.expand_dims(img, axis=0)"
      ],
      "metadata": {
        "id": "ZM56eu_e4aTH"
      },
      "execution_count": null,
      "outputs": []
    },
    {
      "cell_type": "code",
      "source": [
        "img"
      ],
      "metadata": {
        "colab": {
          "base_uri": "https://localhost:8080/"
        },
        "id": "uaAhIT2PAIjg",
        "outputId": "c97b068d-fa3f-434a-dc2d-13071d27e85f"
      },
      "execution_count": null,
      "outputs": [
        {
          "output_type": "execute_result",
          "data": {
            "text/plain": [
              "array([[[[244., 245., 249.],\n",
              "         [244., 245., 249.],\n",
              "         [244., 245., 249.],\n",
              "         ...,\n",
              "         [229., 234., 240.],\n",
              "         [228., 235., 241.],\n",
              "         [228., 235., 241.]],\n",
              "\n",
              "        [[244., 245., 249.],\n",
              "         [244., 245., 249.],\n",
              "         [244., 245., 249.],\n",
              "         ...,\n",
              "         [229., 234., 240.],\n",
              "         [228., 235., 241.],\n",
              "         [228., 235., 241.]],\n",
              "\n",
              "        [[244., 245., 249.],\n",
              "         [244., 245., 249.],\n",
              "         [244., 245., 249.],\n",
              "         ...,\n",
              "         [231., 236., 242.],\n",
              "         [228., 235., 241.],\n",
              "         [228., 235., 241.]],\n",
              "\n",
              "        ...,\n",
              "\n",
              "        [[244., 245., 247.],\n",
              "         [244., 245., 247.],\n",
              "         [244., 245., 247.],\n",
              "         ...,\n",
              "         [234., 237., 242.],\n",
              "         [234., 237., 242.],\n",
              "         [233., 236., 241.]],\n",
              "\n",
              "        [[244., 245., 247.],\n",
              "         [244., 245., 247.],\n",
              "         [244., 245., 247.],\n",
              "         ...,\n",
              "         [231., 234., 239.],\n",
              "         [234., 237., 242.],\n",
              "         [234., 237., 242.]],\n",
              "\n",
              "        [[244., 245., 247.],\n",
              "         [244., 245., 247.],\n",
              "         [244., 245., 247.],\n",
              "         ...,\n",
              "         [233., 236., 241.],\n",
              "         [234., 237., 242.],\n",
              "         [234., 237., 242.]]]], dtype=float32)"
            ]
          },
          "metadata": {},
          "execution_count": 13
        }
      ]
    },
    {
      "cell_type": "code",
      "source": [
        "train.class_indices"
      ],
      "metadata": {
        "colab": {
          "base_uri": "https://localhost:8080/"
        },
        "id": "2wtWYkA64fvg",
        "outputId": "1fdb42b8-13d4-4afe-b083-3f77f4fcdf6f"
      },
      "execution_count": null,
      "outputs": [
        {
          "output_type": "execute_result",
          "data": {
            "text/plain": [
              "{'APPLES': 0, 'BANANA': 1, 'ORANGE': 2, 'PINEAPPLE': 3, 'WATERMELON': 4}"
            ]
          },
          "metadata": {},
          "execution_count": 14
        }
      ]
    },
    {
      "cell_type": "code",
      "source": [
        "a = np.argmax(model.predict(img))"
      ],
      "metadata": {
        "colab": {
          "base_uri": "https://localhost:8080/"
        },
        "id": "MaiCWEzd4xFL",
        "outputId": "1bb8aaaf-8bc5-41a8-e69f-811760c5b5dd"
      },
      "execution_count": null,
      "outputs": [
        {
          "output_type": "stream",
          "name": "stdout",
          "text": [
            "1/1 [==============================] - 0s 130ms/step\n"
          ]
        }
      ]
    },
    {
      "cell_type": "code",
      "source": [
        "a"
      ],
      "metadata": {
        "colab": {
          "base_uri": "https://localhost:8080/"
        },
        "id": "o40ZkUf64_Sk",
        "outputId": "aaae2cb8-e42d-4929-84a5-e39be93b9360"
      },
      "execution_count": null,
      "outputs": [
        {
          "output_type": "execute_result",
          "data": {
            "text/plain": [
              "1"
            ]
          },
          "metadata": {},
          "execution_count": 16
        }
      ]
    },
    {
      "cell_type": "code",
      "source": [
        "output = ['apple', 'banana', 'orange', 'pineapple', 'watermelon']"
      ],
      "metadata": {
        "id": "Un5m7QyIBfZS"
      },
      "execution_count": null,
      "outputs": []
    },
    {
      "cell_type": "code",
      "source": [
        "if a==0:\n",
        "  print(\"Apple\")\n",
        "  print(\"Calories: 52\")\n",
        "  print(\"Water: 86%\")\n",
        "  print(\"Protein: 0.3 grams\")\n",
        "  print(\"Carbs: 13.8 grams\")\n",
        "  print(\"Sugar: 10.4 grams\")\n",
        "  print(\"Fiber: 2.4 grams\")\n",
        "  print(\"Fat: 0.2 grams\")\n",
        "\n",
        "elif a==1:\n",
        "  print(\"Banana\")\n",
        "  print(\"Calories: 89\")\n",
        "  print(\"Water: 72%\")\n",
        "  print(\"Protein: 1.1 grams\")\n",
        "  print(\"Carbs: 22.8 grams\")\n",
        "  print(\"Sugar: 12.2 grams\")\n",
        "  print(\"Fiber: 2.6 grams\")\n",
        "  print(\"Fat: 0.3 grams\")\n",
        "\n",
        "elif a==2:\n",
        "  print(\"Orange\")\n",
        "  print(\"Calories: 66\")\n",
        "  print(\"Water: 86%\")\n",
        "  print(\"Protein: 1.3 grams\")\n",
        "  print(\"Carbs: 14.8 grams\")\n",
        "  print(\"Sugar: 12 grams\")\n",
        "  print(\"Fiber: 2.8 grams\")\n",
        "  print(\"Fat: 0.2 grams\")\n",
        "\n",
        "elif a==3:\n",
        "  print(\"Pineapple\")\n",
        "  print(\"Calories: 83\")\n",
        "  print(\"Vitamin : 88% of daily value\")\n",
        "  print(\"Protein: 1 gram\")\n",
        "  print(\"Carbs: 21.6 grams\")\n",
        "  print(\"Sugar: 10 grams\")\n",
        "  print(\"Fiber: 2.3 grams\")\n",
        "  print(\"Fat: 0 grams\")\n",
        "\n",
        "elif a==4:\n",
        "  print(\"Watermelon\")\n",
        "  print(\"Calories: 30\")\n",
        "  print(\"Water: 91%\")\n",
        "  print(\"Protein: 0.6 grams\")\n",
        "  print(\"Carbs: 7.6 grams\")\n",
        "  print(\"Sugar: 6.2 grams\")\n",
        "  print(\"Fiber: 0.4 grams\")\n",
        "  print(\"Fat: 0.2 grams\")\n",
        "\n"
      ],
      "metadata": {
        "colab": {
          "base_uri": "https://localhost:8080/"
        },
        "id": "FiRrkFapBzz3",
        "outputId": "24ba3e40-471d-49d0-8be1-b709624b2e3c"
      },
      "execution_count": null,
      "outputs": [
        {
          "output_type": "stream",
          "name": "stdout",
          "text": [
            "Banana\n",
            "Calories: 89\n",
            "Water: 72%\n",
            "Protein: 1.1 grams\n",
            "Carbs: 22.8 grams\n",
            "Sugar: 12.2 grams\n",
            "Fiber: 2.6 grams\n",
            "Fat: 0.3 grams\n"
          ]
        }
      ]
    },
    {
      "cell_type": "code",
      "source": [
        "exam = image.load_img('/content/banana.jpeg', target_size=(200,200))"
      ],
      "metadata": {
        "id": "DsFNgNdyHhmK"
      },
      "execution_count": null,
      "outputs": []
    },
    {
      "cell_type": "code",
      "source": [
        "exam = image.img_to_array(exam)\n",
        "exam = np.expand_dims(exam, axis=0)"
      ],
      "metadata": {
        "id": "-fSFhsgjIgGJ"
      },
      "execution_count": null,
      "outputs": []
    },
    {
      "cell_type": "code",
      "source": [
        "exam"
      ],
      "metadata": {
        "colab": {
          "base_uri": "https://localhost:8080/"
        },
        "id": "oWS5X30mIrqb",
        "outputId": "e3d4f589-f17d-4afd-a686-ba489cf660c2"
      },
      "execution_count": null,
      "outputs": [
        {
          "output_type": "execute_result",
          "data": {
            "text/plain": [
              "array([[[[255., 255., 255.],\n",
              "         [255., 255., 255.],\n",
              "         [255., 255., 255.],\n",
              "         ...,\n",
              "         [255., 255., 255.],\n",
              "         [255., 255., 255.],\n",
              "         [255., 255., 255.]],\n",
              "\n",
              "        [[255., 255., 255.],\n",
              "         [255., 255., 255.],\n",
              "         [255., 255., 255.],\n",
              "         ...,\n",
              "         [255., 255., 255.],\n",
              "         [255., 255., 255.],\n",
              "         [255., 255., 255.]],\n",
              "\n",
              "        [[255., 255., 255.],\n",
              "         [255., 255., 255.],\n",
              "         [255., 255., 255.],\n",
              "         ...,\n",
              "         [255., 255., 255.],\n",
              "         [255., 255., 255.],\n",
              "         [255., 255., 255.]],\n",
              "\n",
              "        ...,\n",
              "\n",
              "        [[255., 255., 255.],\n",
              "         [255., 255., 255.],\n",
              "         [255., 255., 255.],\n",
              "         ...,\n",
              "         [255., 255., 255.],\n",
              "         [255., 255., 255.],\n",
              "         [255., 255., 255.]],\n",
              "\n",
              "        [[255., 255., 255.],\n",
              "         [255., 255., 255.],\n",
              "         [255., 255., 255.],\n",
              "         ...,\n",
              "         [255., 255., 255.],\n",
              "         [255., 255., 255.],\n",
              "         [255., 255., 255.]],\n",
              "\n",
              "        [[255., 255., 255.],\n",
              "         [255., 255., 255.],\n",
              "         [255., 255., 255.],\n",
              "         ...,\n",
              "         [255., 255., 255.],\n",
              "         [255., 255., 255.],\n",
              "         [255., 255., 255.]]]], dtype=float32)"
            ]
          },
          "metadata": {},
          "execution_count": 69
        }
      ]
    },
    {
      "cell_type": "code",
      "source": [
        "a = np.argmax(model.predict(exam))"
      ],
      "metadata": {
        "colab": {
          "base_uri": "https://localhost:8080/"
        },
        "id": "4NhcmFaYIsXz",
        "outputId": "a898158a-635f-4403-f23b-4bd0d3b5cccf"
      },
      "execution_count": null,
      "outputs": [
        {
          "output_type": "stream",
          "name": "stdout",
          "text": [
            "1/1 [==============================] - 0s 20ms/step\n"
          ]
        }
      ]
    },
    {
      "cell_type": "code",
      "source": [
        "a"
      ],
      "metadata": {
        "colab": {
          "base_uri": "https://localhost:8080/"
        },
        "id": "FCIZN1pFIz85",
        "outputId": "54bd52ab-95f9-4344-dd37-92cd83b64d06"
      },
      "execution_count": null,
      "outputs": [
        {
          "output_type": "execute_result",
          "data": {
            "text/plain": [
              "1"
            ]
          },
          "metadata": {},
          "execution_count": 77
        }
      ]
    },
    {
      "cell_type": "code",
      "source": [
        "model.save('animalWeights.h5')"
      ],
      "metadata": {
        "id": "Fc1myqc_I1i_"
      },
      "execution_count": null,
      "outputs": []
    },
    {
      "cell_type": "code",
      "source": [],
      "metadata": {
        "id": "hoLK02RrJHrn"
      },
      "execution_count": null,
      "outputs": []
    }
  ]
}